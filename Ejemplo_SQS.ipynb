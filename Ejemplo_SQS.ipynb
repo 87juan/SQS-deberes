{
 "cells": [
  {
   "cell_type": "markdown",
   "id": "5073d425-d784-45b2-944c-16c92b9a7277",
   "metadata": {
    "tags": []
   },
   "source": [
    "<h3><font color=\"#00586D\" size=4> Para que los ejemplos funcionen debes de crear una cola y poner el enlace en la segunda caja de comandos</font></h3>"
   ]
  },
  {
   "cell_type": "code",
   "execution_count": 1,
   "id": "29402ffd-d6b7-4bd4-9dd0-3bf9f6ad60c3",
   "metadata": {
    "tags": []
   },
   "outputs": [],
   "source": [
    "import boto3"
   ]
  },
  {
   "cell_type": "code",
   "execution_count": 2,
   "id": "56f40dce-236f-41f5-8101-2f5fdd730493",
   "metadata": {
    "tags": []
   },
   "outputs": [],
   "source": [
    "sqs = boto3.client('sqs',region_name='eu-west-3')\n",
    "queue_url = \"URL de tu cola\""
   ]
  },
  {
   "cell_type": "markdown",
   "id": "0b0cf462-bc51-4f15-b6a7-9ba45a094231",
   "metadata": {
    "tags": []
   },
   "source": [
    "<h3><font color=\"#00586D\" size=4> Ejemplo 1: envío y recepcion de mensajes</font></h3>"
   ]
  },
  {
   "cell_type": "code",
   "execution_count": 5,
   "id": "1c1ccb34-a9ae-464b-b0a1-5ec472766d7a",
   "metadata": {
    "tags": []
   },
   "outputs": [
    {
     "name": "stdout",
     "output_type": "stream",
     "text": [
      "Enviado: dfdfef27-c55b-4739-801e-36b8ba9a449d\n"
     ]
    }
   ],
   "source": [
    "response=sqs.send_message(\n",
    "    QueueUrl=queue_url,\n",
    "    MessageBody=(\n",
    "        'Warhamer 40K es una franquicia de ciencia ficion oscura.'\n",
    "    )\n",
    ")\n",
    "print(f'Enviado: {response[\"MessageId\"]}')"
   ]
  },
  {
   "cell_type": "code",
   "execution_count": 6,
   "id": "2ad2c872-6147-4444-b8a8-87aad38455c5",
   "metadata": {
    "tags": []
   },
   "outputs": [
    {
     "name": "stdout",
     "output_type": "stream",
     "text": [
      "Recibido y borrado: dfdfef27-c55b-4739-801e-36b8ba9a449d Warhamer 40K es una franquicia de ciencia ficion oscura.\n"
     ]
    }
   ],
   "source": [
    "response=sqs.receive_message(\n",
    "    QueueUrl=queue_url,\n",
    "    MaxNumberOfMessages=1\n",
    ")\n",
    "\n",
    "if 'Messages' in response:\n",
    "    message=response['Messages'][0]\n",
    "    receipt_handle=message['ReceiptHandle']\n",
    "    \n",
    "    sqs.delete_message(\n",
    "        QueueUrl=queue_url,\n",
    "        ReceiptHandle=receipt_handle\n",
    "    )\n",
    "    print(f'Recibido y borrado: {message[\"MessageId\"]} {message[\"Body\"]}')\n",
    "else:\n",
    "    print(\"No hay mensajes en la cola\")"
   ]
  },
  {
   "cell_type": "markdown",
   "id": "10aa0f2f-2b1c-4ff5-8efb-986c51c1698d",
   "metadata": {
    "tags": []
   },
   "source": [
    "<h3><font color=\"#00586D\" size=4> Ejemplo 2: tiempo de espera de visivilidad(visibility timeout)</font></h3>"
   ]
  },
  {
   "cell_type": "code",
   "execution_count": 8,
   "id": "94ea36e4-6997-4bec-bad7-ae067379dc03",
   "metadata": {
    "tags": []
   },
   "outputs": [
    {
     "name": "stdout",
     "output_type": "stream",
     "text": [
      "Enviado: ef395311-a88e-4813-9a4d-ceb224204142\n"
     ]
    }
   ],
   "source": [
    "response=sqs.send_message(\n",
    "    QueueUrl=queue_url,\n",
    "    MessageBody=(\n",
    "        'Los platinos de los residents evils son un coñazo'\n",
    "    )\n",
    ")\n",
    "print(f'Enviado: {response[\"MessageId\"]}')"
   ]
  },
  {
   "cell_type": "code",
   "execution_count": 11,
   "id": "7dd03f19-f034-4f97-b3a3-48fe1b38aa3f",
   "metadata": {
    "tags": []
   },
   "outputs": [
    {
     "name": "stdout",
     "output_type": "stream",
     "text": [
      "No hay mensajes en la cola\n"
     ]
    }
   ],
   "source": [
    "response=sqs.receive_message(\n",
    "    QueueUrl=queue_url,\n",
    "    MaxNumberOfMessages=1\n",
    ")\n",
    "\n",
    "if 'Messages' in response:\n",
    "    message=response['Messages'][0]\n",
    "    receipt_handle=message['ReceiptHandle']\n",
    "    print(f'Recibido {message[\"MessageId\"]} {message[\"Body\"]}')\n",
    "else:\n",
    "    print(\"No hay mensajes en la cola\")"
   ]
  },
  {
   "cell_type": "code",
   "execution_count": 42,
   "id": "07086447-74c9-496a-b656-56a224ea5b00",
   "metadata": {
    "tags": []
   },
   "outputs": [
    {
     "name": "stdout",
     "output_type": "stream",
     "text": [
      "Borrado: 17261af5-df86-47a4-9191-982a028f9900 Los platinos de los resident evil son un coñazo\n"
     ]
    }
   ],
   "source": [
    "sqs.delete_message(\n",
    "    QueueUrl=queue_url,\n",
    "    ReceiptHandle=receipt_handle\n",
    ")\n",
    "print(f'Borrado: {message[\"MessageId\"]} {message[\"Body\"]}')"
   ]
  },
  {
   "cell_type": "markdown",
   "id": "7684dd96-9c10-4f23-acbe-064c105eee3e",
   "metadata": {
    "tags": []
   },
   "source": [
    "<h3><font color=\"#00586D\" size=4> Ejemplo 3: retraso de entrega(delivery delay)</font></h3>"
   ]
  },
  {
   "cell_type": "code",
   "execution_count": 45,
   "id": "47f3fd77-ffbb-4085-b504-678ef84ed6da",
   "metadata": {
    "tags": []
   },
   "outputs": [
    {
     "name": "stdout",
     "output_type": "stream",
     "text": [
      "Enviado: d4f6ac4a-27b0-4258-9fe5-c364d6b5f798\n"
     ]
    }
   ],
   "source": [
    "response=sqs.send_message(\n",
    "    QueueUrl=queue_url,\n",
    "    MessageBody=(\n",
    "        'Me encanta el salseo y las funas'\n",
    "    ),\n",
    "    DelaySeconds=5\n",
    ")\n",
    "print(f'Enviado: {response[\"MessageId\"]}')"
   ]
  },
  {
   "cell_type": "code",
   "execution_count": 55,
   "id": "a487b339-cd62-4e81-b441-c3001f0a34ff",
   "metadata": {
    "tags": []
   },
   "outputs": [
    {
     "name": "stdout",
     "output_type": "stream",
     "text": [
      "No hay mensajes en la cola\n"
     ]
    }
   ],
   "source": [
    "response=sqs.receive_message(\n",
    "    QueueUrl=queue_url,\n",
    "    MaxNumberOfMessages=1\n",
    ")\n",
    "\n",
    "if 'Messages' in response:\n",
    "    message=response['Messages'][0]\n",
    "    receipt_handle=message['ReceiptHandle']\n",
    "    \n",
    "    sqs.delete_message(\n",
    "        QueueUrl=queue_url,\n",
    "        ReceiptHandle=receipt_handle\n",
    "    )\n",
    "    print(f'Recibido y borrado: {message[\"MessageId\"]} {message[\"Body\"]}')\n",
    "else:\n",
    "    print(\"No hay mensajes en la cola\")"
   ]
  },
  {
   "cell_type": "markdown",
   "id": "96d77ecd-b43a-432d-a5d9-e99858d7f218",
   "metadata": {
    "tags": []
   },
   "source": [
    "<h3><font color=\"#00586D\" size=4> Ejemplo 4: Sondeo largo (lorn polling)</font></h3>\n",
    "<h6>Enviamos el mensaje, ejecutamos para que me diga a quien y que mensaje y en ese momento vuelvo a enviar el mensaje</h6>"
   ]
  },
  {
   "cell_type": "code",
   "execution_count": 70,
   "id": "aa3e1ef2-45b3-4114-885a-09d8373d7c63",
   "metadata": {
    "tags": []
   },
   "outputs": [
    {
     "name": "stderr",
     "output_type": "stream",
     "text": [
      "Exception in thread Thread-14:\n",
      "Traceback (most recent call last):\n",
      "  File \"/usr/lib/python3.8/threading.py\", line 932, in _bootstrap_inner\n",
      "    self.run()\n",
      "  File \"/usr/lib/python3.8/threading.py\", line 870, in run\n",
      "    self._target(*self._args, **self._kwargs)\n",
      "  File \"/tmp/ipykernel_195/2600184032.py\", line 4, in receive_and_delete\n",
      "  File \"/home/juanlopez/.local/lib/python3.8/site-packages/botocore/client.py\", line 530, in _api_call\n",
      "    return self._make_api_call(operation_name, kwargs)\n",
      "  File \"/home/juanlopez/.local/lib/python3.8/site-packages/botocore/client.py\", line 960, in _make_api_call\n",
      "    raise error_class(parsed_response, operation_name)\n",
      "botocore.errorfactory.QueueDoesNotExist: An error occurred (AWS.SimpleQueueService.NonExistentQueue) when calling the ReceiveMessage operation: The specified queue does not exist for this wsdl version.\n"
     ]
    }
   ],
   "source": [
    "import threading\n",
    "\n",
    "def receive_and_delete():\n",
    "    response=sqs.receive_message(\n",
    "        QueueUrl=queue_url,\n",
    "        MaxNumberOfMessages=1,\n",
    "        WaitTimeSeconds=20\n",
    "    )\n",
    "    if 'Messages' in response:\n",
    "        message=response['Messages'][0]\n",
    "        receipt_handle=message['ReceiptHandle']\n",
    "        sqs.delete_message(\n",
    "            QueueUrl=queue_url,\n",
    "            ReceiptHandle=receipt_handle\n",
    "        )\n",
    "        print(f'Recibido y borrado: {message[\"MessageId\"]} {message[\"Body\"]}')\n",
    "    else:\n",
    "        print(\"No hay mensajes en la cola\")\n",
    "x= threading.Thread(target=receive_and_delete)\n",
    "x.start()"
   ]
  },
  {
   "cell_type": "code",
   "execution_count": 71,
   "id": "b108d819-7529-4bb7-b88d-e9367591add0",
   "metadata": {
    "tags": []
   },
   "outputs": [
    {
     "ename": "QueueDoesNotExist",
     "evalue": "An error occurred (AWS.SimpleQueueService.NonExistentQueue) when calling the SendMessage operation: The specified queue does not exist for this wsdl version.",
     "output_type": "error",
     "traceback": [
      "\u001b[0;31m---------------------------------------------------------------------------\u001b[0m",
      "\u001b[0;31mQueueDoesNotExist\u001b[0m                         Traceback (most recent call last)",
      "Cell \u001b[0;32mIn[71], line 1\u001b[0m\n\u001b[0;32m----> 1\u001b[0m response\u001b[38;5;241m=\u001b[39m\u001b[43msqs\u001b[49m\u001b[38;5;241;43m.\u001b[39;49m\u001b[43msend_message\u001b[49m\u001b[43m(\u001b[49m\n\u001b[1;32m      2\u001b[0m \u001b[43m    \u001b[49m\u001b[43mQueueUrl\u001b[49m\u001b[38;5;241;43m=\u001b[39;49m\u001b[43mqueue_url\u001b[49m\u001b[43m,\u001b[49m\n\u001b[1;32m      3\u001b[0m \u001b[43m    \u001b[49m\u001b[43mMessageBody\u001b[49m\u001b[38;5;241;43m=\u001b[39;49m\u001b[43m(\u001b[49m\n\u001b[1;32m      4\u001b[0m \u001b[43m        \u001b[49m\u001b[38;5;124;43m'\u001b[39;49m\u001b[38;5;124;43mPrueba de sondeo largo\u001b[39;49m\u001b[38;5;124;43m'\u001b[39;49m\n\u001b[1;32m      5\u001b[0m \u001b[43m    \u001b[49m\u001b[43m)\u001b[49m\n\u001b[1;32m      6\u001b[0m \u001b[43m)\u001b[49m\n\u001b[1;32m      8\u001b[0m \u001b[38;5;28mprint\u001b[39m(\u001b[38;5;124mf\u001b[39m\u001b[38;5;124m'\u001b[39m\u001b[38;5;124mEnviado:\u001b[39m\u001b[38;5;132;01m{\u001b[39;00mresponse[\u001b[38;5;124m\"\u001b[39m\u001b[38;5;124mMessageId\u001b[39m\u001b[38;5;124m\"\u001b[39m]\u001b[38;5;132;01m}\u001b[39;00m\u001b[38;5;124m'\u001b[39m)\n",
      "File \u001b[0;32m~/.local/lib/python3.8/site-packages/botocore/client.py:530\u001b[0m, in \u001b[0;36mClientCreator._create_api_method.<locals>._api_call\u001b[0;34m(self, *args, **kwargs)\u001b[0m\n\u001b[1;32m    526\u001b[0m     \u001b[38;5;28;01mraise\u001b[39;00m \u001b[38;5;167;01mTypeError\u001b[39;00m(\n\u001b[1;32m    527\u001b[0m         \u001b[38;5;124mf\u001b[39m\u001b[38;5;124m\"\u001b[39m\u001b[38;5;132;01m{\u001b[39;00mpy_operation_name\u001b[38;5;132;01m}\u001b[39;00m\u001b[38;5;124m() only accepts keyword arguments.\u001b[39m\u001b[38;5;124m\"\u001b[39m\n\u001b[1;32m    528\u001b[0m     )\n\u001b[1;32m    529\u001b[0m \u001b[38;5;66;03m# The \"self\" in this scope is referring to the BaseClient.\u001b[39;00m\n\u001b[0;32m--> 530\u001b[0m \u001b[38;5;28;01mreturn\u001b[39;00m \u001b[38;5;28;43mself\u001b[39;49m\u001b[38;5;241;43m.\u001b[39;49m\u001b[43m_make_api_call\u001b[49m\u001b[43m(\u001b[49m\u001b[43moperation_name\u001b[49m\u001b[43m,\u001b[49m\u001b[43m \u001b[49m\u001b[43mkwargs\u001b[49m\u001b[43m)\u001b[49m\n",
      "File \u001b[0;32m~/.local/lib/python3.8/site-packages/botocore/client.py:960\u001b[0m, in \u001b[0;36mBaseClient._make_api_call\u001b[0;34m(self, operation_name, api_params)\u001b[0m\n\u001b[1;32m    958\u001b[0m     error_code \u001b[38;5;241m=\u001b[39m parsed_response\u001b[38;5;241m.\u001b[39mget(\u001b[38;5;124m\"\u001b[39m\u001b[38;5;124mError\u001b[39m\u001b[38;5;124m\"\u001b[39m, {})\u001b[38;5;241m.\u001b[39mget(\u001b[38;5;124m\"\u001b[39m\u001b[38;5;124mCode\u001b[39m\u001b[38;5;124m\"\u001b[39m)\n\u001b[1;32m    959\u001b[0m     error_class \u001b[38;5;241m=\u001b[39m \u001b[38;5;28mself\u001b[39m\u001b[38;5;241m.\u001b[39mexceptions\u001b[38;5;241m.\u001b[39mfrom_code(error_code)\n\u001b[0;32m--> 960\u001b[0m     \u001b[38;5;28;01mraise\u001b[39;00m error_class(parsed_response, operation_name)\n\u001b[1;32m    961\u001b[0m \u001b[38;5;28;01melse\u001b[39;00m:\n\u001b[1;32m    962\u001b[0m     \u001b[38;5;28;01mreturn\u001b[39;00m parsed_response\n",
      "\u001b[0;31mQueueDoesNotExist\u001b[0m: An error occurred (AWS.SimpleQueueService.NonExistentQueue) when calling the SendMessage operation: The specified queue does not exist for this wsdl version."
     ]
    }
   ],
   "source": [
    "response=sqs.send_message(\n",
    "    QueueUrl=queue_url,\n",
    "    MessageBody=(\n",
    "        'Prueba de sondeo largo'\n",
    "    )\n",
    ")\n",
    "\n",
    "print(f'Enviado:{response[\"MessageId\"]}')"
   ]
  }
 ],
 "metadata": {
  "kernelspec": {
   "display_name": "Python 3 (ipykernel)",
   "language": "python",
   "name": "python3"
  },
  "language_info": {
   "codemirror_mode": {
    "name": "ipython",
    "version": 3
   },
   "file_extension": ".py",
   "mimetype": "text/x-python",
   "name": "python",
   "nbconvert_exporter": "python",
   "pygments_lexer": "ipython3",
   "version": "3.8.10"
  }
 },
 "nbformat": 4,
 "nbformat_minor": 5
}
