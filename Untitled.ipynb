{
 "cells": [
  {
   "cell_type": "code",
   "execution_count": 1,
   "id": "fc2f074e-b7ec-4dbe-9cab-2db8fb04c660",
   "metadata": {},
   "outputs": [
    {
     "name": "stdout",
     "output_type": "stream",
     "text": [
      "Collecting Pillow==8.0.1\n",
      "  Downloading Pillow-8.0.1-cp38-cp38-manylinux1_x86_64.whl (2.2 MB)\n",
      "\u001b[K     |████████████████████████████████| 2.2 MB 17.0 MB/s eta 0:00:01\n",
      "\u001b[?25hCollecting requests==2.25.1\n",
      "  Downloading requests-2.25.1-py2.py3-none-any.whl (61 kB)\n",
      "\u001b[K     |████████████████████████████████| 61 kB 12.4 MB/s  eta 0:00:01\n",
      "\u001b[?25hRequirement already satisfied: certifi>=2017.4.17 in /usr/lib/python3/dist-packages (from requests==2.25.1->-r meme_generator/requirements.txt (line 2)) (2019.11.28)\n",
      "Requirement already satisfied: urllib3<1.27,>=1.21.1 in /usr/lib/python3/dist-packages (from requests==2.25.1->-r meme_generator/requirements.txt (line 2)) (1.25.8)\n",
      "Requirement already satisfied: idna<3,>=2.5 in /usr/lib/python3/dist-packages (from requests==2.25.1->-r meme_generator/requirements.txt (line 2)) (2.8)\n",
      "Requirement already satisfied: chardet<5,>=3.0.2 in /usr/lib/python3/dist-packages (from requests==2.25.1->-r meme_generator/requirements.txt (line 2)) (3.0.4)\n",
      "\u001b[31mERROR: jupyterlab-server 2.22.0 has requirement requests>=2.28, but you'll have requests 2.25.1 which is incompatible.\u001b[0m\n",
      "Installing collected packages: Pillow, requests\n",
      "  Attempting uninstall: Pillow\n",
      "    Found existing installation: Pillow 9.5.0\n",
      "    Uninstalling Pillow-9.5.0:\n",
      "      Successfully uninstalled Pillow-9.5.0\n",
      "Successfully installed Pillow-8.0.1 requests-2.25.1\n"
     ]
    }
   ],
   "source": [
    "!pip install -r meme_generator/requirements.txt"
   ]
  },
  {
   "cell_type": "code",
   "execution_count": 66,
   "id": "580b3437-b537-458d-abf6-01324b7ee752",
   "metadata": {
    "tags": []
   },
   "outputs": [],
   "source": [
    "from meme_generator import generate_meme"
   ]
  },
  {
   "cell_type": "code",
   "execution_count": 173,
   "id": "4d549d77-95a5-4ad6-b914-333562de0ff6",
   "metadata": {
    "tags": []
   },
   "outputs": [],
   "source": [
    "top_text = \"I dont always make memes\"\n",
    "bottom_text = \"But when I do, I use Python\"\n",
    "generate_meme('/home/juanlopez/SQS/meme_generator/imagen/idontalways.jpg', '/home/juanlopez/SQS/meme_generator/meme.jpg', top_text=top_text, bottom_text=bottom_text)"
   ]
  },
  {
   "cell_type": "code",
   "execution_count": 170,
   "id": "520bcfb1-7667-457c-836c-6495df4b201e",
   "metadata": {
    "tags": []
   },
   "outputs": [
    {
     "name": "stdout",
     "output_type": "stream",
     "text": [
      "80be6243-3dba-405a-8b8b-450f5a4efcc9\n"
     ]
    }
   ],
   "source": [
    "import boto3\n",
    "import json\n",
    "\n",
    "sqs = boto3.client('sqs', region_name='eu-west-3')\n",
    "queue_url = 'https://sqs.eu-west-3.amazonaws.com/336247090034/CidaenMemes'\n",
    "\n",
    "def send_message(image_src, top_text, bottom_text=None):\n",
    "    content = {\n",
    "        \"image_src\": image_src,\n",
    "        \"top_text\": top_text,\n",
    "        \"bottom_text\": bottom_text\n",
    "    }\n",
    "    message = json.dumps(content)\n",
    "    response = sqs.send_message(\n",
    "        QueueUrl=queue_url,\n",
    "        MessageBody=message\n",
    "    )\n",
    "    print(response[\"MessageId\"])\n",
    "\n",
    "    \n",
    "\n",
    "send_message('/home/juanlopez/SQS/meme_generator/imagen/idontalways.jpg', 'I dont always make memes', 'But when I do, I use Python')"
   ]
  },
  {
   "cell_type": "code",
   "execution_count": 174,
   "id": "e5da2a6c-08b0-4c2a-9d53-965f079e5edd",
   "metadata": {
    "tags": []
   },
   "outputs": [],
   "source": [
    "import boto3\n",
    "import json\n",
    "import uuid\n",
    "\n",
    "sqs = boto3.client('sqs', region_name='eu-west-3')\n",
    "queue_url = 'https://sqs.eu-west-3.amazonaws.com/336247090034/CidaenMemes'\n",
    "\n",
    "def receive_message():\n",
    "    response = sqs.receive_message(\n",
    "        QueueUrl=queue_url,\n",
    "        MaxNumberOfMessages=1\n",
    "    )\n",
    "\n",
    "    if 'Messages' in response:\n",
    "        message = response['Messages'][0]\n",
    "        print(message)\n",
    "        receipt_handle = message['ReceiptHandle']\n",
    "        \n",
    "        content = json.loads(message['Body'])\n",
    "        image_src = content['image_src']\n",
    "        image_dst = f'/home/juanlopez/SQS/meme_generator/memes/{uuid.uuid1()}.jpg'\n",
    "        top_text = content['top_text']\n",
    "        bottom_text = content['bottom_text']\n",
    "        \n",
    "        generate_meme(image_src, image_dst, top_text, bottom_text)\n",
    "\n",
    "        sqs.delete_message(\n",
    "            QueueUrl=queue_url,\n",
    "            ReceiptHandle=receipt_handle\n",
    "        )\n",
    "    \n",
    "receive_message()"
   ]
  },
  {
   "cell_type": "code",
   "execution_count": null,
   "id": "289a72ce-59c8-48db-aa76-d325e699f823",
   "metadata": {},
   "outputs": [],
   "source": []
  },
  {
   "cell_type": "code",
   "execution_count": null,
   "id": "0853a1c3-0c93-4d77-8fc0-2510d815bad8",
   "metadata": {},
   "outputs": [],
   "source": []
  }
 ],
 "metadata": {
  "kernelspec": {
   "display_name": "Python 3 (ipykernel)",
   "language": "python",
   "name": "python3"
  },
  "language_info": {
   "codemirror_mode": {
    "name": "ipython",
    "version": 3
   },
   "file_extension": ".py",
   "mimetype": "text/x-python",
   "name": "python",
   "nbconvert_exporter": "python",
   "pygments_lexer": "ipython3",
   "version": "3.8.10"
  }
 },
 "nbformat": 4,
 "nbformat_minor": 5
}
